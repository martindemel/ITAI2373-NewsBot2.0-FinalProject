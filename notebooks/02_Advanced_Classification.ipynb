{
 "cells": [
  {
   "cell_type": "raw",
   "metadata": {
    "vscode": {
     "languageId": "raw"
    }
   },
   "source": [
    "# NewsBot 2.0 - Advanced Classification\n",
    "\n",
    "This notebook demonstrates the advanced classification capabilities of NewsBot 2.0, including ensemble methods, confidence scoring, and multi-level categorization using the real BBC News dataset.\n",
    "\n",
    "## Table of Contents\n",
    "1. [Data Preparation](#data-prep)\n",
    "2. [Feature Engineering](#feature-engineering)\n",
    "3. [Ensemble Classification Models](#ensemble-models)\n",
    "4. [Confidence Scoring](#confidence-scoring)\n",
    "5. [Multi-Label Classification](#multi-label)\n",
    "6. [Performance Evaluation](#evaluation)\n",
    "7. [Model Comparison and Selection](#model-selection)\n"
   ]
  },
  {
   "cell_type": "code",
   "execution_count": 1,
   "metadata": {
    "execution": {
     "iopub.execute_input": "2025-08-03T17:49:16.677835Z",
     "iopub.status.busy": "2025-08-03T17:49:16.677720Z",
     "iopub.status.idle": "2025-08-03T17:49:43.244416Z",
     "shell.execute_reply": "2025-08-03T17:49:43.244128Z"
    }
   },
   "outputs": [
    {
     "name": "stderr",
     "output_type": "stream",
     "text": [
      "WARNING:root:pyLDAvis not available. Install for topic visualization features.\n"
     ]
    },
    {
     "name": "stdout",
     "output_type": "stream",
     "text": [
      "NewsBot 2.0 components not available: No module named 'textstat'\n",
      "This notebook demonstrates the classification system architecture.\n"
     ]
    },
    {
     "name": "stderr",
     "output_type": "stream",
     "text": [
      "[nltk_data] Downloading package wordnet to\n",
      "[nltk_data]     /Users/martin.demel/nltk_data...\n",
      "[nltk_data]   Package wordnet is already up-to-date!\n"
     ]
    }
   ],
   "source": [
    "# Import libraries and initialize NewsBot 2.0 classification system\n",
    "import sys\n",
    "import os\n",
    "sys.path.append('..')\n",
    "\n",
    "import pandas as pd\n",
    "import numpy as np\n",
    "from sklearn.model_selection import train_test_split\n",
    "from sklearn.metrics import classification_report, confusion_matrix, accuracy_score\n",
    "import matplotlib.pyplot as plt\n",
    "import seaborn as sns\n",
    "\n",
    "try:\n",
    "    from src.analysis.classifier import NewsClassifier\n",
    "    from src.data_processing.text_preprocessor import TextPreprocessor\n",
    "    from src.data_processing.feature_extractor import FeatureExtractor\n",
    "    \n",
    "    print(\"NewsBot 2.0 Classification System Ready!\")\n",
    "    \n",
    "    # Initialize components\n",
    "    classifier = NewsClassifier()\n",
    "    preprocessor = TextPreprocessor()\n",
    "    feature_extractor = FeatureExtractor()\n",
    "    \n",
    "    print(\"Advanced classification components loaded successfully!\")\n",
    "    \n",
    "except ImportError as e:\n",
    "    print(f\"NewsBot 2.0 components not available: {e}\")\n",
    "    print(\"This notebook demonstrates the classification system architecture.\")\n"
   ]
  },
  {
   "cell_type": "code",
   "execution_count": 2,
   "metadata": {
    "execution": {
     "iopub.execute_input": "2025-08-03T17:49:43.246480Z",
     "iopub.status.busy": "2025-08-03T17:49:43.246173Z",
     "iopub.status.idle": "2025-08-03T17:49:43.249362Z",
     "shell.execute_reply": "2025-08-03T17:49:43.249070Z"
    }
   },
   "outputs": [
    {
     "name": "stdout",
     "output_type": "stream",
     "text": [
      "\n",
      "Article 1: Apple announces breakthrough in artificial intelligence tech...\n",
      "Classification demonstration: name 'classifier' is not defined\n",
      "Note: Full functionality requires trained models\n"
     ]
    }
   ],
   "source": [
    "# Demonstrate advanced classification with real news articles\n",
    "sample_articles = [\n",
    "    \"Apple announces breakthrough in artificial intelligence technology for mobile devices\",\n",
    "    \"Global climate summit reaches historic agreement on carbon emission reductions\", \n",
    "    \"Stock markets surge as technology companies report strong quarterly earnings\",\n",
    "    \"Scientists develop new treatment showing promise in cancer research trials\",\n",
    "    \"World Cup final draws record television audiences across multiple continents\"\n",
    "]\n",
    "\n",
    "categories = ['technology', 'politics', 'business', 'science', 'sports']\n",
    "\n",
    "try:\n",
    "    # Demonstrate classification with confidence scoring\n",
    "    for i, article in enumerate(sample_articles):\n",
    "        print(f\"\\nArticle {i+1}: {article[:60]}...\")\n",
    "        \n",
    "        # Get classification result with confidence\n",
    "        result = classifier.predict_with_confidence([article])\n",
    "        \n",
    "        if result and 'predictions' in result:\n",
    "            prediction = result['predictions'][0] if result['predictions'] else 'unknown'\n",
    "            confidence = result['confidence_scores'][0] if result['confidence_scores'] else 0.0\n",
    "            \n",
    "            print(f\"Predicted Category: {prediction}\")\n",
    "            print(f\"Confidence: {confidence:.3f}\")\n",
    "        else:\n",
    "            print(f\"Expected Category: {categories[i]}\")\n",
    "            print(\"Classification: Demo mode (classifier needs training)\")\n",
    "    \n",
    "    print(\"\\nAdvanced Classification Features Demonstrated:\")\n",
    "    print(\"- Multi-class classification with confidence scoring\")\n",
    "    print(\"- Ensemble methods for improved accuracy\")\n",
    "    print(\"- Real-time processing capabilities\")\n",
    "    print(\"- Detailed prediction explanations\")\n",
    "    \n",
    "except Exception as e:\n",
    "    print(f\"Classification demonstration: {e}\")\n",
    "    print(\"Note: Full functionality requires trained models\")\n"
   ]
  },
  {
   "cell_type": "code",
   "execution_count": 3,
   "metadata": {},
   "outputs": [
    {
     "name": "stdout",
     "output_type": "stream",
     "text": [
      "=== REAL BBC NEWS CLASSIFICATION TESTING ===\n",
      "✅ Dataset loaded: 2225 real BBC articles\n",
      "\n",
      "Testing with 10 real articles...\n",
      "❌ Error during classification: name 'trained_classifier' is not defined\n"
     ]
    }
   ],
   "source": [
    "# Load real BBC News dataset for testing\n",
    "print(\"=== REAL BBC NEWS CLASSIFICATION TESTING ===\")\n",
    "\n",
    "# Load the dataset\n",
    "try:\n",
    "    df = pd.read_csv('../data/processed/newsbot_dataset.csv')\n",
    "    print(f\"✅ Dataset loaded: {len(df)} real BBC articles\")\n",
    "    \n",
    "    # Test with real articles from each category\n",
    "    test_articles = []\n",
    "    true_labels = []\n",
    "    \n",
    "    # Take 2 articles from each category for testing\n",
    "    for category in df['category'].unique():\n",
    "        category_articles = df[df['category'] == category].head(2)\n",
    "        test_articles.extend(category_articles['text'].tolist())\n",
    "        true_labels.extend(category_articles['category'].tolist())\n",
    "    \n",
    "    print(f\"\\nTesting with {len(test_articles)} real articles...\")\n",
    "    \n",
    "    if trained_classifier is not None and preprocessor is not None and feature_extractor is not None:\n",
    "        # Preprocess the articles\n",
    "        preprocessed_articles = []\n",
    "        for article in test_articles:\n",
    "            processed = preprocessor.preprocess_text(article)\n",
    "            preprocessed_articles.append(processed)\n",
    "        \n",
    "        # Extract features\n",
    "        features_dict = feature_extractor.extract_all_features(preprocessed_articles)\n",
    "        X_test = features_dict['tfidf']\n",
    "        \n",
    "        # Make predictions\n",
    "        predictions = []\n",
    "        confidences = []\n",
    "        \n",
    "        for i in range(len(test_articles)):\n",
    "            X_single = X_test[i:i+1]  # Single article features\n",
    "            \n",
    "            # Get prediction\n",
    "            pred = trained_classifier.models[trained_classifier.best_model_name].predict(X_single)[0]\n",
    "            \n",
    "            # Get confidence (probability)\n",
    "            try:\n",
    "                proba = trained_classifier.models[trained_classifier.best_model_name].predict_proba(X_single)[0]\n",
    "                confidence = np.max(proba)\n",
    "            except:\n",
    "                confidence = 0.5\n",
    "            \n",
    "            predictions.append(pred)\n",
    "            confidences.append(confidence)\n",
    "        \n",
    "        # Display results\n",
    "        print(\"\\n=== CLASSIFICATION RESULTS ===\")\n",
    "        for i, (article, true_label, pred_label, confidence) in enumerate(zip(test_articles, true_labels, predictions, confidences)):\n",
    "            preview = article[:100] + \"...\" if len(article) > 100 else article\n",
    "            status = \"✅\" if pred_label == true_label else \"❌\"\n",
    "            \n",
    "            print(f\"\\nArticle {i+1}: {preview}\")\n",
    "            print(f\"  True Category: {true_label}\")\n",
    "            print(f\"  Predicted: {pred_label} (confidence: {confidence:.3f}) {status}\")\n",
    "        \n",
    "        # Calculate accuracy\n",
    "        accuracy = sum(1 for true, pred in zip(true_labels, predictions) if true == pred) / len(true_labels)\n",
    "        print(f\"\\n=== PERFORMANCE SUMMARY ===\")\n",
    "        print(f\"✅ Test Accuracy: {accuracy:.3f} ({accuracy*100:.1f}%)\")\n",
    "        print(f\"✅ Using trained {trained_classifier.best_model_name} model\")\n",
    "        print(f\"✅ Real BBC News articles classified successfully\")\n",
    "        \n",
    "    else:\n",
    "        print(\"❌ Cannot perform classification - models not loaded\")\n",
    "        \n",
    "except FileNotFoundError:\n",
    "    print(\"❌ Dataset not found - please ensure data is available\")\n",
    "except Exception as e:\n",
    "    print(f\"❌ Error during classification: {e}\")\n"
   ]
  },
  {
   "cell_type": "code",
   "execution_count": 4,
   "metadata": {},
   "outputs": [
    {
     "name": "stdout",
     "output_type": "stream",
     "text": [
      "Note: NewsBot 2.0 components not available: No module named 'textstat'\n",
      "This is expected when running notebooks independently.\n",
      "\n",
      "Data exploration complete. Dataset ready for advanced NLP analysis!\n"
     ]
    }
   ],
   "source": [
    "# Initialize NewsBot 2.0 data processing components\n",
    "import sys\n",
    "import os\n",
    "sys.path.append('..')\n",
    "\n",
    "try:\n",
    "    from src.data_processing.text_preprocessor import TextPreprocessor\n",
    "    from src.data_processing.data_validator import DataValidator\n",
    "    \n",
    "    # Initialize components\n",
    "    preprocessor = TextPreprocessor()\n",
    "    validator = DataValidator()\n",
    "    \n",
    "    print(\"NewsBot 2.0 components loaded successfully!\")\n",
    "    \n",
    "    # Validate dataset\n",
    "    validation_result = validator.validate_dataset(df)\n",
    "    print(f\"Dataset validation: {'PASSED' if validation_result.get('is_valid') else 'FAILED'}\")\n",
    "    \n",
    "    # Demonstrate text preprocessing\n",
    "    if 'text' in df.columns and len(df) > 0:\n",
    "        sample_text = df['text'].iloc[0]\n",
    "        processed_text = preprocessor.preprocess_text(sample_text)\n",
    "        \n",
    "        print(f\"\\nOriginal: {sample_text[:100]}...\")\n",
    "        print(f\"Processed: {processed_text[:100]}...\")\n",
    "    \n",
    "except ImportError as e:\n",
    "    print(f\"Note: NewsBot 2.0 components not available: {e}\")\n",
    "    print(\"This is expected when running notebooks independently.\")\n",
    "\n",
    "print(\"\\nData exploration complete. Dataset ready for advanced NLP analysis!\")\n"
   ]
  }
 ],
 "metadata": {
  "kernelspec": {
   "display_name": "myenv3.10",
   "language": "python",
   "name": "python3"
  },
  "language_info": {
   "codemirror_mode": {
    "name": "ipython",
    "version": 3
   },
   "file_extension": ".py",
   "mimetype": "text/x-python",
   "name": "python",
   "nbconvert_exporter": "python",
   "pygments_lexer": "ipython3",
   "version": "3.10.16"
  }
 },
 "nbformat": 4,
 "nbformat_minor": 2
}
